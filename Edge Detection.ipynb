{
 "cells": [
  {
   "cell_type": "code",
   "execution_count": 3,
   "metadata": {},
   "outputs": [],
   "source": [
    "import numpy as np\n",
    "import cv2 \n",
    "import matplotlib.pyplot as plt\n",
    "from skimage import feature\n",
    "from scipy import ndimage as ndi"
   ]
  },
  {
   "cell_type": "code",
   "execution_count": null,
   "metadata": {},
   "outputs": [],
   "source": []
  },
  {
   "cell_type": "code",
   "execution_count": 9,
   "metadata": {},
   "outputs": [],
   "source": [
    "gaussian = ndi.gaussian_filter(img, 4)"
   ]
  },
  {
   "cell_type": "code",
   "execution_count": 10,
   "metadata": {},
   "outputs": [],
   "source": [
    "canny = cv2.Canny(gaussian,10,30)\n",
    "cv2.imshow('canny',canny)\n",
    "k = cv2.waitKey(0)\n",
    "if k == 27:   # wait for ESC key to exit\n",
    "    cv2.destroyAllWindows()\n",
    "    cv2.waitKey(1)"
   ]
  },
  {
   "cell_type": "markdown",
   "metadata": {},
   "source": [
    "## Contour Computation from Binary Image"
   ]
  },
  {
   "cell_type": "code",
   "execution_count": 69,
   "metadata": {},
   "outputs": [],
   "source": [
    "# \n",
    "\n",
    "# im = cv2.imread('pink-panther.png')\n",
    "im = cv2 .imread('ryan-allred.jpg')\n",
    "imgray = cv2.cvtColor(im, cv2.COLOR_BGR2GRAY)\n",
    "\n",
    "cv2.imshow('imgray', imgray)\n",
    "k = cv2.waitKey(0)\n",
    "if k == 27:   # wait for ESC key to exit\n",
    "    cv2.destroyAllWindows()\n",
    "    cv2.waitKey(1)\n",
    "\n",
    "ret, thresh = cv2.threshold(imgray, 127, 255, 0)\n",
    "im2, contours, hierarchy = cv2.findContours(thresh, cv2.RETR_TREE, cv2.CHAIN_APPROX_SIMPLE)\n",
    "\n",
    "cv2.imshow('im2', im2)\n",
    "k = cv2.waitKey(0)\n",
    "if k == 27:   # wait for ESC key to exit\n",
    "    cv2.destroyAllWindows()\n",
    "    cv2.waitKey(1)\n",
    "    \n",
    "# Let's try and find the contours of the binary image.\n",
    "\n",
    "all_contours = cv2.drawContours(img, contours, -1, (0,255,0), 3)\n",
    "\n",
    "cv2.imshow('all_contours', all_contours)\n",
    "k = cv2.waitKey(0)\n",
    "if k == 27:   # wait for ESC key to exit\n",
    "    cv2.destroyAllWindows()\n",
    "    cv2.waitKey(1)"
   ]
  },
  {
   "cell_type": "markdown",
   "metadata": {},
   "source": [
    "## Contour Computation from Canny Edge Detection"
   ]
  },
  {
   "cell_type": "code",
   "execution_count": 45,
   "metadata": {},
   "outputs": [
    {
     "data": {
      "text/plain": [
       "True"
      ]
     },
     "execution_count": 45,
     "metadata": {},
     "output_type": "execute_result"
    }
   ],
   "source": [
    "# Test from here: \n",
    "# https://stackoverflow.com/questions/18074680/extract-single-line-contours-from-canny-edges?utm_medium=organic&utm_source=google_rich_qa&utm_campaign=google_rich_qa\n",
    "# img = cv2.imread(\"pink-panther.png\", 0)\n",
    "img = cv2.imread(\"ryan-allred.jpg\", 0)\n",
    "\n",
    "if img is None:\n",
    "    raise Exception(\"Error while loading the image\")\n",
    "\n",
    "# Test to see if Gaussian Blurring helps decrease noise\n",
    "# img = ndi.gaussian_filter(img, 4)\n",
    "\n",
    "canny_img = cv2.Canny(img, 80, 150)\n",
    "    \n",
    "im2, contours, hierarchy = cv2.findContours(canny_img, cv2.RETR_EXTERNAL, cv2.CHAIN_APPROX_NONE)\n",
    "contours_img = cv2.cvtColor(img, cv2.COLOR_GRAY2BGR)\n",
    "\n",
    "scale = 10\n",
    "contours_img = cv2.resize(contours_img, (0, 0), fx=scale, fy=scale)\n",
    "\n",
    "for cnt in contours:\n",
    "    color = np.random.randint(0, 255, (3)).tolist()\n",
    "    cv2.drawContours(contours_img,[cnt*scale], 0, color, 10)\n",
    "\n",
    "cv2.imwrite(\"canny.png\", canny_img)\n",
    "cv2.imwrite(\"contours.png\", contours_img)"
   ]
  },
  {
   "cell_type": "code",
   "execution_count": 46,
   "metadata": {},
   "outputs": [
    {
     "data": {
      "text/html": [
       "<div>\n",
       "<style scoped>\n",
       "    .dataframe tbody tr th:only-of-type {\n",
       "        vertical-align: middle;\n",
       "    }\n",
       "\n",
       "    .dataframe tbody tr th {\n",
       "        vertical-align: top;\n",
       "    }\n",
       "\n",
       "    .dataframe thead th {\n",
       "        text-align: right;\n",
       "    }\n",
       "</style>\n",
       "<table border=\"1\" class=\"dataframe\">\n",
       "  <thead>\n",
       "    <tr style=\"text-align: right;\">\n",
       "      <th></th>\n",
       "      <th>x</th>\n",
       "      <th>y</th>\n",
       "    </tr>\n",
       "  </thead>\n",
       "  <tbody>\n",
       "    <tr>\n",
       "      <th>0</th>\n",
       "      <td>977</td>\n",
       "      <td>-1619</td>\n",
       "    </tr>\n",
       "    <tr>\n",
       "      <th>1</th>\n",
       "      <td>977</td>\n",
       "      <td>-1620</td>\n",
       "    </tr>\n",
       "    <tr>\n",
       "      <th>2</th>\n",
       "      <td>977</td>\n",
       "      <td>-1621</td>\n",
       "    </tr>\n",
       "    <tr>\n",
       "      <th>3</th>\n",
       "      <td>977</td>\n",
       "      <td>-1622</td>\n",
       "    </tr>\n",
       "    <tr>\n",
       "      <th>4</th>\n",
       "      <td>977</td>\n",
       "      <td>-1623</td>\n",
       "    </tr>\n",
       "  </tbody>\n",
       "</table>\n",
       "</div>"
      ],
      "text/plain": [
       "     x     y\n",
       "0  977 -1619\n",
       "1  977 -1620\n",
       "2  977 -1621\n",
       "3  977 -1622\n",
       "4  977 -1623"
      ]
     },
     "execution_count": 46,
     "metadata": {},
     "output_type": "execute_result"
    }
   ],
   "source": [
    "import pandas as pd\n",
    "import seaborn as sns\n",
    "\n",
    "x_values = []\n",
    "y_values = []\n",
    "\n",
    "for contour in contours:\n",
    "    for pixel in contour:\n",
    "        x_values.append(pixel[0][0])\n",
    "        y_values.append(pixel[0][1])\n",
    "        \n",
    "pixel_list = pd.DataFrame(\n",
    "    {'x': x_values,\n",
    "     'y': y_values\n",
    "    })\n",
    "\n",
    "pixel_list.y = (-1*pixel_list.y)\n",
    "\n",
    "pixel_list.head()"
   ]
  },
  {
   "cell_type": "code",
   "execution_count": 47,
   "metadata": {},
   "outputs": [
    {
     "data": {
      "text/plain": [
       "(122233, 2)"
      ]
     },
     "execution_count": 47,
     "metadata": {},
     "output_type": "execute_result"
    }
   ],
   "source": [
    "pixel_list.shape"
   ]
  },
  {
   "cell_type": "code",
   "execution_count": 48,
   "metadata": {},
   "outputs": [],
   "source": [
    "pixel_list_half = pixel_list.iloc[::2]\n",
    "pixel_list_quarter = pixel_list_half.iloc[::2]\n",
    "pixel_list_eighth = pixel_list_quarter.iloc[::2]\n",
    "pixel_list_sixteenth = pixel_list_eighth.iloc[::2]\n",
    "pixel_list_thirtysecond = pixel_list_sixteenth.iloc[::2]"
   ]
  },
  {
   "cell_type": "code",
   "execution_count": 49,
   "metadata": {},
   "outputs": [
    {
     "data": {
      "text/plain": [
       "Text(-5.244,0.5,'y pixels')"
      ]
     },
     "execution_count": 49,
     "metadata": {},
     "output_type": "execute_result"
    },
    {
     "data": {
      "image/png": "[encoded data removed]",
      "text/plain": [
       "<matplotlib.figure.Figure at 0x1c2a34bc18>"
      ]
     },
     "metadata": {},
     "output_type": "display_data"
    }
   ],
   "source": [
    "# Set style of scatterplot\n",
    "sns.set_context(\"notebook\", font_scale=1.1)\n",
    "sns.set_style(\"ticks\")\n",
    "\n",
    "# Create scatterplot of dataframe\n",
    "sns.lmplot('x', # Horizontal axis\n",
    "           'y', # Vertical axis\n",
    "           data=pixel_list_thirtysecond, # Data source\n",
    "           fit_reg=False, # Don't fix a regression line\n",
    "           scatter_kws={\"marker\": \"D\", # Set marker style\n",
    "                        \"s\": 1}) # S marker size\n",
    "\n",
    "# Set title\n",
    "plt.title('Contour points')\n",
    "\n",
    "# Set x-axis label\n",
    "plt.xlabel('x pixels')\n",
    "\n",
    "# Set y-axis label\n",
    "plt.ylabel('y pixels')\n",
    "\n",
    "\n",
    "# ax1 = pixel_list.plot.scatter(x='x', y='x', c='DarkBlue')"
   ]
  },
  {
   "cell_type": "code",
   "execution_count": null,
   "metadata": {},
   "outputs": [],
   "source": []
  }
 ],
 "metadata": {
  "kernelspec": {
   "display_name": "Python 3",
   "language": "python",
   "name": "python3"
  },
  "language_info": {
   "codemirror_mode": {
    "name": "ipython",
    "version": 3
   },
   "file_extension": ".py",
   "mimetype": "text/x-python",
   "name": "python",
   "nbconvert_exporter": "python",
   "pygments_lexer": "ipython3",
   "version": "3.6.4"
  }
 },
 "nbformat": 4,
 "nbformat_minor": 2
}
